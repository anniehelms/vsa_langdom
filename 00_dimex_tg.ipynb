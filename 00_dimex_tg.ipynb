{
 "cells": [
  {
   "cell_type": "markdown",
   "metadata": {},
   "source": [
    "# Prepare .phn files to become Textgrids\n",
    "\n",
    "The Corpus DIMEx100 contains segmented and labeled .phn files for phone and word tiers for each .wav file. However, the units of time are in miliseconds (instead of seconds) and the files contain headers that Praat scripts cannot read to create corresponding Textgrids from each .phn file. This notebook will be used for the processing of these .phn files so that Textgrids can be generated."
   ]
  },
  {
   "cell_type": "code",
   "execution_count": 28,
   "metadata": {},
   "outputs": [],
   "source": [
    "import pandas as pd\n",
    "import os\n",
    "import csv"
   ]
  },
  {
   "cell_type": "code",
   "execution_count": 44,
   "metadata": {},
   "outputs": [
    {
     "data": {
      "text/plain": [
       "'E:\\\\cbas_dime\\\\male'"
      ]
     },
     "execution_count": 44,
     "metadata": {},
     "output_type": "execute_result"
    }
   ],
   "source": [
    "# find current working directory\n",
    "os.getcwd()"
   ]
  },
  {
   "cell_type": "code",
   "execution_count": 43,
   "metadata": {},
   "outputs": [],
   "source": [
    "# change cwd to folder containing .phn files\n",
    "os.chdir(\"E:\\\\cbas_dime\\\\male\")"
   ]
  },
  {
   "cell_type": "code",
   "execution_count": 45,
   "metadata": {},
   "outputs": [],
   "source": [
    "# for loop to loop through each .phn folder in directory\n",
    "# for loop to loop through each file in folder\n",
    "\n",
    "folders = [\"phn_word\", \"phn_phone\"]\n",
    "\n",
    "for f in folders:\n",
    "    folder  = \"E:\\\\cbas_dime\\\\male\\\\\" + f\n",
    "    files = os.listdir(folder)\n",
    "    for file in files:\n",
    "        # import file and specify delim as space and first 2 rows as header\n",
    "        phn = pd.read_csv(folder + \"/\" + file, delim_whitespace = True, header = [0,1])\n",
    "        \n",
    "        # reset index\n",
    "        phn = phn.reset_index()\n",
    "        \n",
    "        # rename cols\n",
    "        phn.columns = [\"0\", \"1\", \"2\"]\n",
    "\n",
    "        # divide first 2 cols by 1000\n",
    "        phn[\"0\"] = phn[\"0\"].apply(lambda x: int(x)/1000)\n",
    "        phn[\"1\"] = phn[\"1\"].apply(lambda x: int(x)/1000)\n",
    "\n",
    "        # save new file\n",
    "        phn.to_csv(folder + \"/\" + file, sep=' ', quoting=csv.QUOTE_NONE, escapechar='\\\\', index = False, header = None)"
   ]
  },
  {
   "cell_type": "markdown",
   "metadata": {},
   "source": [
    "These files are then converted to TextGrids using a Praat script from Daniel Hirst 2010 and adapted by Annie Helms 2020. A second Praat script is used (Lennes, 2013) to extract F1, F2, and F3 for each phone in the TextGrids."
   ]
  }
 ],
 "metadata": {
  "kernelspec": {
   "display_name": "Python 3",
   "language": "python",
   "name": "python3"
  },
  "language_info": {
   "codemirror_mode": {
    "name": "ipython",
    "version": 3
   },
   "file_extension": ".py",
   "mimetype": "text/x-python",
   "name": "python",
   "nbconvert_exporter": "python",
   "pygments_lexer": "ipython3",
   "version": "3.8.8"
  }
 },
 "nbformat": 4,
 "nbformat_minor": 4
}
